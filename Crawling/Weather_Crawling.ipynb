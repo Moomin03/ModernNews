{
 "cells": [
  {
   "cell_type": "code",
   "execution_count": 1,
   "id": "d43d027b-cbd8-4a33-a0b2-6598d3024dee",
   "metadata": {},
   "outputs": [],
   "source": [
    "import requests\n",
    "from bs4 import BeautifulSoup"
   ]
  },
  {
   "cell_type": "code",
   "execution_count": 21,
   "id": "7fc20ef9-4c6e-47d7-8157-31ccde741ab2",
   "metadata": {},
   "outputs": [],
   "source": [
    "url = 'https://search.naver.com/search.naver?where=nexearch&sm=top_hty&fbm=0&ie=utf8&query=%EC%88%9C%EC%B2%9C+%EB%82%A0%EC%94%A8&ackey=nrziau8m'\n",
    "res = requests.get(url)\n",
    "soup = BeautifulSoup(res.text, 'html.parser')"
   ]
  },
  {
   "cell_type": "code",
   "execution_count": 11,
   "id": "d7fa22e0-8c95-4719-944a-5555c04aef4f",
   "metadata": {},
   "outputs": [
    {
     "data": {
      "text/plain": [
       "<strong><span class=\"blind\">현재 온도</span>22.4<span class=\"celsius\">°</span></strong>"
      ]
     },
     "execution_count": 11,
     "metadata": {},
     "output_type": "execute_result"
    }
   ],
   "source": [
    "temperature = soup.find('div', {'class':'temperature_text'})\n",
    "temperature = temperature.find('strong')\n",
    "temperature"
   ]
  },
  {
   "cell_type": "code",
   "execution_count": 20,
   "id": "e1298b3f-2ab7-4e31-a286-7bf3b653dbae",
   "metadata": {},
   "outputs": [
    {
     "name": "stdout",
     "output_type": "stream",
     "text": [
      " 어제보다 2° 높아요  흐림    체감 22.3°   습도 52%   남동풍 1.1m/s   \n",
      " 맑음  강수확률 0%  \n",
      " 맑음  강수확률 0%  \n",
      " 흐리고 한때 비  강수확률 60%  \n",
      " 구름많음  강수확률 20%  \n"
     ]
    }
   ],
   "source": [
    "summary_text = soup.find_all('div', {'class':'temperature_info'})\n",
    "for i in summary_text:\n",
    "    print(i.get_text())"
   ]
  },
  {
   "cell_type": "code",
   "execution_count": null,
   "id": "d7cbae76-470e-4fee-9fea-c30e316431a7",
   "metadata": {},
   "outputs": [],
   "source": []
  }
 ],
 "metadata": {
  "kernelspec": {
   "display_name": "Python 3 (ipykernel)",
   "language": "python",
   "name": "python3"
  },
  "language_info": {
   "codemirror_mode": {
    "name": "ipython",
    "version": 3
   },
   "file_extension": ".py",
   "mimetype": "text/x-python",
   "name": "python",
   "nbconvert_exporter": "python",
   "pygments_lexer": "ipython3",
   "version": "3.11.9"
  }
 },
 "nbformat": 4,
 "nbformat_minor": 5
}
